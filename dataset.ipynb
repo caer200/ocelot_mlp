{
  "nbformat": 4,
  "nbformat_minor": 0,
  "metadata": {
    "colab": {
      "provenance": []
    },
    "kernelspec": {
      "name": "python3",
      "display_name": "Python 3"
    },
    "language_info": {
      "name": "python"
    }
  },
  "cells": [
    {
      "cell_type": "markdown",
      "source": [
        "[![Open In Colab](https://colab.research.google.com/assets/colab-badge.svg)](https://colab.research.google.com/github/caer200/ocelot_mlp/blob/main/dataset.ipynb)"
      ],
      "metadata": {
        "id": "hw3xGvFM8j3p"
      }
    },
    {
      "cell_type": "markdown",
      "source": [
        "### Step 1: Install Required Packages\n",
        "Installs required libraries:\n",
        "\n",
        "\n",
        "`ase`: For working with atomic structures and simulations."
      ],
      "metadata": {
        "id": "_zo3hkHp7-l5"
      }
    },
    {
      "cell_type": "code",
      "execution_count": 1,
      "metadata": {
        "colab": {
          "base_uri": "https://localhost:8080/"
        },
        "id": "DTckZTn-7qm4",
        "outputId": "6b22ab9a-044a-4b5b-808e-1ee51cee85e7"
      },
      "outputs": [
        {
          "output_type": "stream",
          "name": "stdout",
          "text": [
            "Collecting ase\n",
            "  Downloading ase-3.25.0-py3-none-any.whl.metadata (4.2 kB)\n",
            "Requirement already satisfied: numpy>=1.19.5 in /usr/local/lib/python3.11/dist-packages (from ase) (2.0.2)\n",
            "Requirement already satisfied: scipy>=1.6.0 in /usr/local/lib/python3.11/dist-packages (from ase) (1.14.1)\n",
            "Requirement already satisfied: matplotlib>=3.3.4 in /usr/local/lib/python3.11/dist-packages (from ase) (3.10.0)\n",
            "Requirement already satisfied: contourpy>=1.0.1 in /usr/local/lib/python3.11/dist-packages (from matplotlib>=3.3.4->ase) (1.3.1)\n",
            "Requirement already satisfied: cycler>=0.10 in /usr/local/lib/python3.11/dist-packages (from matplotlib>=3.3.4->ase) (0.12.1)\n",
            "Requirement already satisfied: fonttools>=4.22.0 in /usr/local/lib/python3.11/dist-packages (from matplotlib>=3.3.4->ase) (4.57.0)\n",
            "Requirement already satisfied: kiwisolver>=1.3.1 in /usr/local/lib/python3.11/dist-packages (from matplotlib>=3.3.4->ase) (1.4.8)\n",
            "Requirement already satisfied: packaging>=20.0 in /usr/local/lib/python3.11/dist-packages (from matplotlib>=3.3.4->ase) (24.2)\n",
            "Requirement already satisfied: pillow>=8 in /usr/local/lib/python3.11/dist-packages (from matplotlib>=3.3.4->ase) (11.1.0)\n",
            "Requirement already satisfied: pyparsing>=2.3.1 in /usr/local/lib/python3.11/dist-packages (from matplotlib>=3.3.4->ase) (3.2.3)\n",
            "Requirement already satisfied: python-dateutil>=2.7 in /usr/local/lib/python3.11/dist-packages (from matplotlib>=3.3.4->ase) (2.8.2)\n",
            "Requirement already satisfied: six>=1.5 in /usr/local/lib/python3.11/dist-packages (from python-dateutil>=2.7->matplotlib>=3.3.4->ase) (1.17.0)\n",
            "Downloading ase-3.25.0-py3-none-any.whl (3.0 MB)\n",
            "\u001b[2K   \u001b[90m━━━━━━━━━━━━━━━━━━━━━━━━━━━━━━━━━━━━━━━━\u001b[0m \u001b[32m3.0/3.0 MB\u001b[0m \u001b[31m23.7 MB/s\u001b[0m eta \u001b[36m0:00:00\u001b[0m\n",
            "\u001b[?25hInstalling collected packages: ase\n",
            "Successfully installed ase-3.25.0\n"
          ]
        }
      ],
      "source": [
        "!pip install ase"
      ]
    },
    {
      "cell_type": "markdown",
      "source": [
        "### Step 2: Clone the Ocelot MLP Repository\n",
        "Clones the GitHub repository containing the pretrained M3GNet model and example structures."
      ],
      "metadata": {
        "id": "BCg41bZ771zs"
      }
    },
    {
      "cell_type": "code",
      "source": [
        "!git clone https://github.com/caer200/ocelot_mlp.git"
      ],
      "metadata": {
        "colab": {
          "base_uri": "https://localhost:8080/"
        },
        "id": "vrP1fay-7vgb",
        "outputId": "370ea568-80ba-44ca-fee5-d81040a749dd"
      },
      "execution_count": 2,
      "outputs": [
        {
          "output_type": "stream",
          "name": "stdout",
          "text": [
            "Cloning into 'ocelot_mlp'...\n",
            "remote: Enumerating objects: 24, done.\u001b[K\n",
            "remote: Counting objects: 100% (24/24), done.\u001b[K\n",
            "remote: Compressing objects: 100% (22/22), done.\u001b[K\n",
            "remote: Total 24 (delta 4), reused 0 (delta 0), pack-reused 0 (from 0)\u001b[K\n",
            "Receiving objects: 100% (24/24), 899.52 KiB | 9.37 MiB/s, done.\n",
            "Resolving deltas: 100% (4/4), done.\n"
          ]
        }
      ]
    },
    {
      "cell_type": "markdown",
      "source": [
        "### Step 3: Extract Structure, energy, stress and forces from the CIF file"
      ],
      "metadata": {
        "id": "1thMWxtD8KaX"
      }
    },
    {
      "cell_type": "code",
      "source": [
        "import numpy as np\n",
        "from ase.io import read\n",
        "from ase.calculators.singlepoint import SinglePointCalculator\n",
        "\n",
        "def parse_metadata_from_cif(cif_path):\n",
        "    \"\"\"Reads metadata (structure, energy, forces, stress) from comment lines in a CIF file.\"\"\"\n",
        "    forces = []\n",
        "    stress = []\n",
        "    energy = None\n",
        "\n",
        "    with open(cif_path, \"r\") as f:\n",
        "        lines = f.readlines()\n",
        "\n",
        "    for line in lines:\n",
        "        line = line.strip()\n",
        "        if line.startswith(\"# Total Energy:\"):\n",
        "            energy = float(line.split(\":\")[1].split()[0])\n",
        "        elif line.startswith(\"#   Atom\"):\n",
        "            parts = line.split(\":\")[1].strip().split()\n",
        "            force = [float(p) for p in parts]\n",
        "            forces.append(force)\n",
        "        elif line.startswith(\"#   \") and len(forces) > 0:  # stress lines\n",
        "            stress_row = [float(x) for x in line.strip(\"# \").split()]\n",
        "            stress.append(stress_row)\n",
        "        elif not line.startswith(\"#\"):\n",
        "            break  # Exit after metadata block\n",
        "\n",
        "    forces = np.array(forces)\n",
        "    stress = np.array(stress)\n",
        "    atoms = read(filename)\n",
        "    return atoms, energy, forces, stress\n",
        "\n",
        "# === Step 1: Read structure from CIF ===\n",
        "filename = \"ocelot_mlp/test.cif\"\n",
        "atoms, energy, forces, stress = parse_metadata_from_cif(filename)\n",
        "\n",
        "\n",
        "print(\"Energy (eV):\", energy)\n",
        "print(\"Forces:\\n\", forces)\n",
        "print(\"Stress tensor:\\n\", stress)\n",
        "print(\"Structure:\", atoms)"
      ],
      "metadata": {
        "colab": {
          "base_uri": "https://localhost:8080/"
        },
        "id": "3lH7ZAEa7rGN",
        "outputId": "2fd864a2-7d67-4639-f18b-b3a5085344c6"
      },
      "execution_count": 5,
      "outputs": [
        {
          "output_type": "stream",
          "name": "stdout",
          "text": [
            "Energy (eV): -505.800042\n",
            "Forces:\n",
            " [[ 0.0174  0.0219  0.01  ]\n",
            " [ 0.0095  0.0125 -0.0685]\n",
            " [-0.0183 -0.0697  0.0236]\n",
            " [ 0.0183  0.0697 -0.0236]\n",
            " [-0.0174 -0.0219 -0.01  ]\n",
            " [-0.0095 -0.0125  0.0685]\n",
            " [ 0.006  -0.0298  0.0679]\n",
            " [ 0.0315  0.0123 -0.061 ]\n",
            " [-0.0315 -0.0123  0.061 ]\n",
            " [ 0.033   0.0108  0.0243]\n",
            " [-0.0265 -0.0248 -0.0093]\n",
            " [-0.006   0.0298 -0.0679]\n",
            " [ 0.0265  0.0248  0.0093]\n",
            " [-0.033  -0.0108 -0.0243]\n",
            " [-0.0003 -0.0338  0.0449]\n",
            " [ 0.0023 -0.016   0.0093]\n",
            " [-0.0023  0.016  -0.0093]\n",
            " [ 0.016   0.0345 -0.0251]\n",
            " [-0.0228  0.0405  0.0091]\n",
            " [-0.016  -0.0345  0.0251]\n",
            " [ 0.0003  0.0338 -0.0449]\n",
            " [ 0.0483 -0.1534  0.0081]\n",
            " [-0.0567  0.0949  0.027 ]\n",
            " [ 0.0652 -0.0065 -0.0768]\n",
            " [-0.0483  0.1534 -0.0081]\n",
            " [ 0.0228 -0.0405 -0.0091]\n",
            " [-0.0652  0.0065  0.0768]\n",
            " [ 0.0567 -0.0949 -0.027 ]\n",
            " [ 0.0436  0.0184 -0.0061]\n",
            " [ 0.0126  0.0682 -0.0125]\n",
            " [-0.0034  0.0565  0.0683]\n",
            " [ 0.0034 -0.0565 -0.0683]\n",
            " [-0.0076 -0.0876  0.0616]\n",
            " [-0.0205 -0.0326 -0.0214]\n",
            " [-0.0126 -0.0682  0.0125]\n",
            " [ 0.0205  0.0326  0.0214]\n",
            " [-0.0436 -0.0184  0.0061]\n",
            " [-0.0102 -0.0125 -0.0104]\n",
            " [-0.0522 -0.0149  0.0299]\n",
            " [ 0.0076  0.0876 -0.0616]\n",
            " [ 0.0522  0.0149 -0.0299]\n",
            " [ 0.0152 -0.0251 -0.0584]\n",
            " [ 0.0203 -0.0243 -0.0208]\n",
            " [ 0.0102  0.0125  0.0104]\n",
            " [-0.0203  0.0243  0.0208]\n",
            " [ 0.024   0.0112 -0.002 ]\n",
            " [ 0.0131  0.0537  0.0072]\n",
            " [-0.0152  0.0251  0.0584]\n",
            " [-0.0131 -0.0537 -0.0072]\n",
            " [-0.024  -0.0112  0.002 ]\n",
            " [-0.0028  0.0518 -0.1049]\n",
            " [-0.0005 -0.0193 -0.0779]\n",
            " [-0.053   0.0891 -0.0028]\n",
            " [-0.0185  0.0112  0.0298]\n",
            " [ 0.0185 -0.0112 -0.0298]\n",
            " [-0.013   0.0127 -0.0015]\n",
            " [-0.0103 -0.0054  0.078 ]\n",
            " [ 0.0005  0.0193  0.0779]\n",
            " [ 0.0028 -0.0518  0.1049]\n",
            " [ 0.0576 -0.046  -0.1155]\n",
            " [ 0.0673 -0.0683 -0.0157]\n",
            " [ 0.013  -0.0127  0.0015]\n",
            " [ 0.053  -0.0891  0.0028]\n",
            " [-0.0312  0.0002  0.1569]\n",
            " [ 0.0319  0.0257 -0.0956]\n",
            " [-0.0576  0.046   0.1155]\n",
            " [ 0.0103  0.0054 -0.078 ]\n",
            " [-0.0123  0.0946 -0.0357]\n",
            " [ 0.0312 -0.0002 -0.1569]\n",
            " [-0.0673  0.0683  0.0157]\n",
            " [ 0.0123 -0.0946  0.0357]\n",
            " [-0.0319 -0.0257  0.0956]]\n",
            "Stress tensor:\n",
            " [[-1.7273 -1.4032 -0.504 ]\n",
            " [-1.4032 -0.9603  0.6144]\n",
            " [-0.504   0.6144 -1.5302]]\n",
            "Structure: Atoms(symbols='C44H28', pbc=True, cell=[[7.68508, 0.0, 0.0], [0.5206298104411543, 6.03279651976428, 0.0], [-6.080588022915937, -2.840014001492277, 14.461784377347737]], spacegroup_kinds=...)\n"
          ]
        }
      ]
    }
  ]
}