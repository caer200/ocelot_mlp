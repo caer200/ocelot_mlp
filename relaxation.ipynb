{
  "nbformat": 4,
  "nbformat_minor": 0,
  "metadata": {
    "colab": {
      "provenance": []
    },
    "kernelspec": {
      "name": "python3",
      "display_name": "Python 3"
    },
    "language_info": {
      "name": "python"
    }
  },
  "cells": [
    {
      "cell_type": "markdown",
      "source": [
        "[![Open In Colab](https://colab.research.google.com/assets/colab-badge.svg)](https://colab.research.google.com/github/caer200/ocelot_mlp/blob/main/relaxation.ipynb)"
      ],
      "metadata": {
        "id": "IZRyaGM8LG5I"
      }
    },
    {
      "cell_type": "markdown",
      "source": [
        "### Step 1: Install Required Packages\n",
        "\n",
        "Installs required libraries:\n",
        "\n",
        "`pymatgen`: For working with crystal structures.\n",
        "\n",
        "`tensorflow==2.12`: Required to load and run the M3GNet-based model.\n",
        "\n",
        "`m3gnet`: Machine-learned interatomic potential model.\n",
        "\n",
        "`ase`: For working with atomic structures and simulations."
      ],
      "metadata": {
        "id": "bNYw7LvOJqgv"
      }
    },
    {
      "cell_type": "code",
      "source": [
        "!pip install pymatgen"
      ],
      "metadata": {
        "id": "_QApPIsXGX9T"
      },
      "execution_count": null,
      "outputs": []
    },
    {
      "cell_type": "code",
      "execution_count": null,
      "metadata": {
        "id": "uWfBgi3I-O5i"
      },
      "outputs": [],
      "source": [
        "!pip install tensorflow==2.12"
      ]
    },
    {
      "cell_type": "code",
      "source": [
        "!pip install --no-deps m3gnet\n",
        "!pip install ase"
      ],
      "metadata": {
        "id": "PQEnp8IZ-UIz"
      },
      "execution_count": null,
      "outputs": []
    },
    {
      "cell_type": "markdown",
      "source": [
        "### Step 2: Clone the Ocelot MLP Repository\n",
        "\n",
        "Clones the GitHub repository containing the pretrained M3GNet model and example structures."
      ],
      "metadata": {
        "id": "zrPguHncJyUH"
      }
    },
    {
      "cell_type": "code",
      "source": [
        "!git clone https://github.com/caer200/ocelot_mlp.git"
      ],
      "metadata": {
        "id": "WklwdDRuCBwR"
      },
      "execution_count": null,
      "outputs": []
    },
    {
      "cell_type": "markdown",
      "source": [
        "### Step 3: Load the Relaxation Model\n",
        "\n",
        "\n",
        "Loads the M3GNet model from JSON.\n",
        "\n",
        "Initializes a `Relaxer` object using the model for performing structure relaxation.\n",
        "\n",
        "Uses the BFGS optimizer for relaxation steps."
      ],
      "metadata": {
        "id": "GySwpCO4KCom"
      }
    },
    {
      "cell_type": "code",
      "source": [
        "from m3gnet.models import Relaxer, Potential\n",
        "import warnings\n",
        "import json\n",
        "import tensorflow as tf\n",
        "from pymatgen.core import Lattice, Structure\n",
        "\n",
        "for category in (UserWarning, DeprecationWarning):\n",
        "    warnings.filterwarnings(\"ignore\", category=category, module=\"tensorflow\")\n",
        "\n",
        "\n",
        "fname = \"ocelot_mlp/m3gnet/m3gnet.json\"\n",
        "with open(fname) as f:\n",
        "    model_serialized = json.load(f)\n",
        "\n",
        "model_relaxer = tf.keras.models.model_from_json(model_serialized, custom_objects={})\n",
        "model_relaxer.load_weights(\"ocelot_mlp/m3gnet/m3gnet\")\n",
        "relaxer = Relaxer(potential=Potential(model_relaxer),optimizer=\"BFGS\")\n"
      ],
      "metadata": {
        "id": "cWj98ZZh-V3H"
      },
      "execution_count": null,
      "outputs": []
    },
    {
      "cell_type": "markdown",
      "source": [
        "### Step 4: Load and Relax a Test Structure\n",
        "\n",
        "\n",
        "Loads a crystal structure from a CIF file (test.cif).\n",
        "\n",
        "Runs the relaxation for up to 300 steps.\n",
        "\n",
        "Stores relaxation results, including final structure and trajectory."
      ],
      "metadata": {
        "id": "38sMFma4KN65"
      }
    },
    {
      "cell_type": "code",
      "source": [
        "structure = Structure.from_file(\"ocelot_mlp/test.cif\")\n",
        "relaxer = Relaxer(potential=Potential(model_relaxer),optimizer=\"BFGS\")\n",
        "relax_results = relaxer.relax(structure, steps=300, verbose=True)"
      ],
      "metadata": {
        "id": "XtWCK5Vz-a6C"
      },
      "execution_count": null,
      "outputs": []
    },
    {
      "cell_type": "markdown",
      "source": [
        "### Step 5: Extract Final Structure\n",
        "\n",
        "Retrieves the fully relaxed structure from the results.\n",
        "\n"
      ],
      "metadata": {
        "id": "oR1p6sxqKV8j"
      }
    },
    {
      "cell_type": "code",
      "source": [
        "relax_results[\"final_structure\"]"
      ],
      "metadata": {
        "id": "QuuWt6NrIvlE"
      },
      "execution_count": null,
      "outputs": []
    },
    {
      "cell_type": "markdown",
      "source": [
        "### Step 6: Extract Final Energy\n",
        "\n",
        "Accesses the energy of the final structure from the relaxation trajectory."
      ],
      "metadata": {
        "id": "OTLB6wUHKfWx"
      }
    },
    {
      "cell_type": "code",
      "source": [
        "relax_results[\"trajectory\"].energies[-1]"
      ],
      "metadata": {
        "id": "Pgj_LaPfI3Ul"
      },
      "execution_count": null,
      "outputs": []
    }
  ]
}